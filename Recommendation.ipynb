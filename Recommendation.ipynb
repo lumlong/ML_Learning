{
 "cells": [
  {
   "cell_type": "code",
   "execution_count": 1,
   "metadata": {},
   "outputs": [],
   "source": [
    "import pandas as pd\n",
    "import numpy as np"
   ]
  },
  {
   "cell_type": "markdown",
   "metadata": {},
   "source": [
    "# Predicting movie ratings"
   ]
  },
  {
   "cell_type": "code",
   "execution_count": 88,
   "metadata": {},
   "outputs": [
    {
     "data": {
      "text/html": [
       "<div>\n",
       "<style scoped>\n",
       "    .dataframe tbody tr th:only-of-type {\n",
       "        vertical-align: middle;\n",
       "    }\n",
       "\n",
       "    .dataframe tbody tr th {\n",
       "        vertical-align: top;\n",
       "    }\n",
       "\n",
       "    .dataframe thead th {\n",
       "        text-align: right;\n",
       "    }\n",
       "</style>\n",
       "<table border=\"1\" class=\"dataframe\">\n",
       "  <thead>\n",
       "    <tr style=\"text-align: right;\">\n",
       "      <th></th>\n",
       "      <th>Alice(0)</th>\n",
       "      <th>Bob(1)</th>\n",
       "      <th>Carol(2)</th>\n",
       "      <th>Dave(3)</th>\n",
       "      <th>x_1(romance)</th>\n",
       "      <th>x_2(action)</th>\n",
       "    </tr>\n",
       "  </thead>\n",
       "  <tbody>\n",
       "    <tr>\n",
       "      <th>0</th>\n",
       "      <td>5.0</td>\n",
       "      <td>5.0</td>\n",
       "      <td>0.0</td>\n",
       "      <td>0.0</td>\n",
       "      <td>0.90</td>\n",
       "      <td>0.00</td>\n",
       "    </tr>\n",
       "    <tr>\n",
       "      <th>1</th>\n",
       "      <td>5.0</td>\n",
       "      <td>NaN</td>\n",
       "      <td>NaN</td>\n",
       "      <td>0.0</td>\n",
       "      <td>1.00</td>\n",
       "      <td>0.01</td>\n",
       "    </tr>\n",
       "    <tr>\n",
       "      <th>2</th>\n",
       "      <td>NaN</td>\n",
       "      <td>4.0</td>\n",
       "      <td>0.0</td>\n",
       "      <td>NaN</td>\n",
       "      <td>0.99</td>\n",
       "      <td>0.00</td>\n",
       "    </tr>\n",
       "    <tr>\n",
       "      <th>3</th>\n",
       "      <td>0.0</td>\n",
       "      <td>0.0</td>\n",
       "      <td>5.0</td>\n",
       "      <td>4.0</td>\n",
       "      <td>0.10</td>\n",
       "      <td>1.00</td>\n",
       "    </tr>\n",
       "    <tr>\n",
       "      <th>4</th>\n",
       "      <td>0.0</td>\n",
       "      <td>0.0</td>\n",
       "      <td>5.0</td>\n",
       "      <td>NaN</td>\n",
       "      <td>0.00</td>\n",
       "      <td>0.90</td>\n",
       "    </tr>\n",
       "  </tbody>\n",
       "</table>\n",
       "</div>"
      ],
      "text/plain": [
       "   Alice(0)  Bob(1)  Carol(2)  Dave(3)  x_1(romance)  x_2(action)\n",
       "0       5.0     5.0       0.0      0.0          0.90         0.00\n",
       "1       5.0     NaN       NaN      0.0          1.00         0.01\n",
       "2       NaN     4.0       0.0      NaN          0.99         0.00\n",
       "3       0.0     0.0       5.0      4.0          0.10         1.00\n",
       "4       0.0     0.0       5.0      NaN          0.00         0.90"
      ]
     },
     "execution_count": 88,
     "metadata": {},
     "output_type": "execute_result"
    }
   ],
   "source": [
    "rating = np.array([\n",
    "    [5,5,0,0],\n",
    "    [5,np.NAN,np.NAN,0],\n",
    "    [np.NAN,4,0,np.NAN],\n",
    "    [0,0,5,4],\n",
    "    [0,0,5,np.NAN]\n",
    "    ])\n",
    "\n",
    "feature = np.array([\n",
    "    [0.9, 0],\n",
    "    [1, 0.01],\n",
    "    [0.99, 0],\n",
    "    [0.1, 1],\n",
    "    [0, 0.9]\n",
    "    ])\n",
    "\n",
    "rating_df = pd.DataFrame(rating, columns=['Alice(0)', 'Bob(1)', 'Carol(2)', 'Dave(3)'])\n",
    "feature_df = pd.DataFrame(feature, columns=['x_1(romance)', 'x_2(action)'])\n",
    "table_df = pd.concat([rating_df, feature_df], axis=1)\n",
    "table_df"
   ]
  },
  {
   "cell_type": "markdown",
   "metadata": {},
   "source": [
    "In this table:\n",
    "\n",
    "**Notaion:**\n",
    "- $n_u$ = no. of users = 4\n",
    "- $n_m$ = no. of movies = 5\n",
    "- $r(i, j)$ = 1 if user $j$ has rated movie $i$ (0 otherwise) = $r(1,1) = 1, r(3,1) = 0$\n",
    "- $y^{(i, j)}$ = rating given by user $j$ on movie $i$ (if defined) = $y^{(1, 1)} = 5, y^{(4, 2)} = 0$"
   ]
  },
  {
   "cell_type": "markdown",
   "metadata": {},
   "source": [
    "for user $j$ and movie $i$, yict rating: \n",
    "\n",
    "$$w^{(j)} * x^{(i)} + b^{(j)}$$"
   ]
  },
  {
   "cell_type": "code",
   "execution_count": 4,
   "metadata": {},
   "outputs": [],
   "source": [
    "# Let's say we have learn parameter w\n",
    "w_1 = np.array([5,0])\n",
    "w_2 = np.array([5,0])\n",
    "\n",
    "x_2 = feature[1]\n",
    "x_3 = feature[2]\n",
    "\n",
    "b_1 = 0\n",
    "b_2 = 0"
   ]
  },
  {
   "cell_type": "code",
   "execution_count": 5,
   "metadata": {},
   "outputs": [
    {
     "name": "stdout",
     "output_type": "stream",
     "text": [
      "yiction for movie 2 rated by Alice(0) is: 4.95\n",
      "yiction for movie 1 rated by Bob(1) is: 5.0\n"
     ]
    }
   ],
   "source": [
    "y_20 = np.dot(x_3, w_1.T) + b_1\n",
    "y_11 = np.dot(x_2, w_2.T) + b_2\n",
    "\n",
    "print(f'yiction for movie 2 rated by Alice(0) is: {y_20}')\n",
    "print(f'yiction for movie 1 rated by Bob(1) is: {y_11}')"
   ]
  },
  {
   "cell_type": "markdown",
   "metadata": {},
   "source": [
    "Let's loop whole table"
   ]
  },
  {
   "cell_type": "code",
   "execution_count": 6,
   "metadata": {},
   "outputs": [],
   "source": [
    "# Let's say we have learn parameter w\n",
    "\n",
    "n_u, n_m = rating.shape\n",
    "n = feature.shape[1]\n",
    "\n",
    "w = np.zeros([n_u, n])\n",
    "w[0] = np.array([5,0])\n",
    "w[1] = np.array([5,0])\n",
    "w[2] = np.array([0,5])\n",
    "w[3] = np.array([0,4])\n",
    "\n",
    "X = feature\n",
    "\n",
    "b = np.zeros(n_u)"
   ]
  },
  {
   "cell_type": "code",
   "execution_count": 8,
   "metadata": {},
   "outputs": [],
   "source": [
    "def linear_regression(X, w, b):\n",
    "    \n",
    "    pred = np.dot(X, w.T) + b\n",
    "\n",
    "    return pred"
   ]
  },
  {
   "cell_type": "code",
   "execution_count": 9,
   "metadata": {},
   "outputs": [],
   "source": [
    "def plot_prediction(input, X, w, b, pred_func):\n",
    "    \n",
    "    m = input.shape[0]\n",
    "    n = input.shape[1]\n",
    "    \n",
    "    # Copy input\n",
    "    pred = input[:]\n",
    "    \n",
    "    # Get all {np.NaN} in {input}\n",
    "    non_nan_idx = np.argwhere(np.isnan(input))\n",
    "\n",
    "    # Replace {np.NaN} in {table_pred_df} with prediction\n",
    "    for i,j in non_nan_idx:\n",
    "        pred[i,j] = pred_func(w[j], X[i], b[j])\n",
    "        \n",
    "    return pred"
   ]
  },
  {
   "cell_type": "code",
   "execution_count": 10,
   "metadata": {},
   "outputs": [
    {
     "data": {
      "text/html": [
       "<div>\n",
       "<style scoped>\n",
       "    .dataframe tbody tr th:only-of-type {\n",
       "        vertical-align: middle;\n",
       "    }\n",
       "\n",
       "    .dataframe tbody tr th {\n",
       "        vertical-align: top;\n",
       "    }\n",
       "\n",
       "    .dataframe thead th {\n",
       "        text-align: right;\n",
       "    }\n",
       "</style>\n",
       "<table border=\"1\" class=\"dataframe\">\n",
       "  <thead>\n",
       "    <tr style=\"text-align: right;\">\n",
       "      <th></th>\n",
       "      <th>Alice(0)</th>\n",
       "      <th>Bob(1)</th>\n",
       "      <th>Carol(2)</th>\n",
       "      <th>Dave(3)</th>\n",
       "    </tr>\n",
       "  </thead>\n",
       "  <tbody>\n",
       "    <tr>\n",
       "      <th>0</th>\n",
       "      <td>5.00</td>\n",
       "      <td>5.0</td>\n",
       "      <td>0.00</td>\n",
       "      <td>0.0</td>\n",
       "    </tr>\n",
       "    <tr>\n",
       "      <th>1</th>\n",
       "      <td>5.00</td>\n",
       "      <td>5.0</td>\n",
       "      <td>0.05</td>\n",
       "      <td>0.0</td>\n",
       "    </tr>\n",
       "    <tr>\n",
       "      <th>2</th>\n",
       "      <td>4.95</td>\n",
       "      <td>4.0</td>\n",
       "      <td>0.00</td>\n",
       "      <td>0.0</td>\n",
       "    </tr>\n",
       "    <tr>\n",
       "      <th>3</th>\n",
       "      <td>0.00</td>\n",
       "      <td>0.0</td>\n",
       "      <td>5.00</td>\n",
       "      <td>4.0</td>\n",
       "    </tr>\n",
       "    <tr>\n",
       "      <th>4</th>\n",
       "      <td>0.00</td>\n",
       "      <td>0.0</td>\n",
       "      <td>5.00</td>\n",
       "      <td>3.6</td>\n",
       "    </tr>\n",
       "  </tbody>\n",
       "</table>\n",
       "</div>"
      ],
      "text/plain": [
       "   Alice(0)  Bob(1)  Carol(2)  Dave(3)\n",
       "0      5.00     5.0      0.00      0.0\n",
       "1      5.00     5.0      0.05      0.0\n",
       "2      4.95     4.0      0.00      0.0\n",
       "3      0.00     0.0      5.00      4.0\n",
       "4      0.00     0.0      5.00      3.6"
      ]
     },
     "execution_count": 10,
     "metadata": {},
     "output_type": "execute_result"
    }
   ],
   "source": [
    "table_pred = plot_prediction(input=rating, X=feature, w=w, b=b, pred_func=linear_regression)\n",
    "pd.DataFrame(table_pred, columns=['Alice(0)', 'Bob(1)', 'Carol(2)', 'Dave(3)'])"
   ]
  },
  {
   "cell_type": "markdown",
   "metadata": {},
   "source": [
    "## Cost Function: Learn from given Users' rating\n",
    "\n",
    "**Notation:**\n",
    "- $r(i, j)$ = 1 if user $j$ has rated movie $i$ (0 otherwise)\n",
    "- $y^{(i, j)}$ = rating given by user $j$ on movie $i$ (if defined)\n",
    "- $w^{(j)}, b^{(j)}$ = parameters for user $j$\n",
    "- $x^{(i)}$ = feature vector for movie $i$\n",
    "- $n$ = no. of features\n",
    "- $n_u$ = no. of users\n",
    "- $n_m$ = no. of movies\n",
    "\n",
    "for user $j$ and movie $i$, predict rateing: $w^{(j)} * x^{(i)} + b^{(j)}$\n",
    "- $m^{(j)}$ = no. movies rated by user $j$ to learn $w^{(j)}$, $b^{(j)}$\n",
    "\n",
    "To learn $w^{(j)}, b^{(j)}$\n",
    "\n",
    "$$ \\displaystyle\\min_{w^{(j)}, b^{(j)}}  J_(w^{(j)}, b^{(j)}) =\\frac{1}{2 \\cancel{m^{(j)}}} \\sum_{i:r(i,j)=1} (w^{(j)} * x^{(i)} + b^{(j)} - y^{(i, j)})^2 \\textcolor{orange}{ + \\frac{\\lambda}{2 \\cancel{m^{(j)}}} \\sum^n_{k=1} (w^{(j)}_k)^2} $$\n",
    "\n",
    "it's ok to eliminate $m^{(j)}$\n",
    "\n",
    "$$ \\displaystyle\\min_{w^{(j)}, b^{(j)}} J_(w^{(j)}, b^{(j)}) = \\frac{1}{2} \\sum_{i:r(i,j)=1} (w^{(j)} * x^{(i)} + b^{(j)} - y^{(i, j)})^2 \\textcolor{orange}{ + \\frac{\\lambda}{2} \\sum^n_{k=1} (w^{(j)}_k)^2} $$\n",
    "\n",
    "sum only movie $i$ has rated"
   ]
  },
  {
   "cell_type": "code",
   "execution_count": 12,
   "metadata": {},
   "outputs": [],
   "source": [
    "def linear_cost_single(input, X, w, b, lambda_, pred_func):\n",
    "    '''\n",
    "    w np.array(1,n) = Vector of learning parameter\n",
    "    '''\n",
    "    \n",
    "    # Find index of non np.NAN\n",
    "    non_nan_idx = np.argwhere(np.invert(np.isnan(input)))[:,0]\n",
    "    \n",
    "    # Create empty shape\n",
    "    pred = np.empty(input.shape)\n",
    "    reg_wk = 0\n",
    "    reg_w = 0\n",
    "    error_sum = 0\n",
    "    \n",
    "    # no. of users = 1\n",
    "    n_u = 1\n",
    "    # no. of movies\n",
    "    n_m = input.shape[0]\n",
    "    # no. of features\n",
    "    n = X.shape[1]\n",
    "\n",
    "    for i in range(n_m):\n",
    "        pred[i] = pred_func(X[i], w=w, b=b)\n",
    "        \n",
    "    for k in range(n):\n",
    "        reg_wk += (w[k] ** 2)\n",
    "    reg_w += reg_wk \n",
    "\n",
    "    for i in non_nan_idx:\n",
    "        error = (pred[i] - input[i])\n",
    "        error_sum += error\n",
    "    \n",
    "    cost = (error_sum + (lambda_ * reg_w)) / 2\n",
    "    \n",
    "    # print(pred)\n",
    "\n",
    "    return cost"
   ]
  },
  {
   "cell_type": "code",
   "execution_count": 13,
   "metadata": {},
   "outputs": [
    {
     "data": {
      "text/plain": [
       "0.0125"
      ]
     },
     "execution_count": 13,
     "metadata": {},
     "output_type": "execute_result"
    }
   ],
   "source": [
    "linear_cost_single(input=rating[:,0], X=feature, w=w[0], b=b[0], lambda_=0.001, pred_func=linear_regression)"
   ]
  },
  {
   "cell_type": "markdown",
   "metadata": {},
   "source": [
    "### Cost function: Summary\n",
    "\n",
    "To learn parameter $w^{(j)}, b^{(j)}$ for user $j$:\n",
    "\n",
    "$$ J_(w^{(j)}, b^{(j)}) = \\frac{1}{2} \\sum_{i:r(i,j)=1} (w^{(j)} * x^{(i)} + b^{(j)} - y^{(i, j)})^2 \\textcolor{orange}{+ \\frac{\\lambda}{2} \\sum^n_{k=1} (w^{(j)}_k)^2} $$\n",
    "\n",
    "<br>\n",
    "\n",
    "To learn parameter $w^{(1)}, b^{(1)}, w^{(2)}, b^{(2)}, \\dots, w^{(n_u)}, b^{(n_u)}$ for all users: <br>\n",
    "<span style=\"color:grey\">In other word sum(user) of sum(cost)</span>\n",
    "\n",
    "$$ J\\binom{w^{(1)}, \\dots, w^{(n_u)}} {b^{(j)}, \\dots, b^{(n_u)}} = \\frac{1}{2}  \\sum^{n_u}_{j=1} \\sum_{i:r(i,j)=1} (w^{(j)} * x^{(i)} + b^{(j)} - y^{(i, j)})^2 \\textcolor{orange}{+ \\frac{\\lambda}{2} \\sum^{n_u}_{j=1} \\sum^n_{k=1} (w^{(j)}_k)^2} $$\n"
   ]
  },
  {
   "cell_type": "code",
   "execution_count": 82,
   "metadata": {},
   "outputs": [],
   "source": [
    "rating = np.array([\n",
    "    [5,5,0,0],\n",
    "    [5,np.NAN,np.NAN,0],\n",
    "    [np.NAN,4,0,np.NAN],\n",
    "    [0,0,5,4],\n",
    "    [0,0,5,np.NAN]\n",
    "    ])\n",
    "\n",
    "feature = np.array([\n",
    "    [0.9, 0],\n",
    "    [1, 0.01],\n",
    "    [0.99, 0],\n",
    "    [0.1, 1],\n",
    "    [0, 0.9]\n",
    "    ])\n",
    "\n",
    "# Lambda for regularization\n",
    "lambda_ = 0.001\n",
    "\n",
    "b = np.ones(rating.shape[1])"
   ]
  },
  {
   "cell_type": "code",
   "execution_count": 83,
   "metadata": {},
   "outputs": [],
   "source": [
    "def cofi_cost_func(input, X, W, b, lambda_):\n",
    "\n",
    "    n_m, n_u = input.shape\n",
    "    \n",
    "    J = 0\n",
    "    cost = 0\n",
    "    \n",
    "    R = np.isfinite(input)\n",
    "    \n",
    "    Y = np.nan_to_num(input, nan=0)\n",
    "\n",
    "    for j in range(n_u):\n",
    "        # Slice only j user need\n",
    "        w = W[j,:]\n",
    "        b_j = b[j]\n",
    "        for i in range(n_m):\n",
    "            x = X[i,:]\n",
    "            y = Y[i,j]\n",
    "            r = R[i,j]\n",
    "            J += np.square(r * (np.dot(w, x) + b_j - y))\n",
    "    \n",
    "    reg = (lambda_/2) * (np.sum(np.square(W)) + np.sum(np.square(X)))\n",
    "    cost = J / 2 + reg\n",
    "\n",
    "    return cost"
   ]
  },
  {
   "cell_type": "code",
   "execution_count": 84,
   "metadata": {},
   "outputs": [
    {
     "data": {
      "text/plain": [
       "9.114855100000002"
      ]
     },
     "execution_count": 84,
     "metadata": {},
     "output_type": "execute_result"
    }
   ],
   "source": [
    "cofi_cost_func(input=rating, X=feature, W=w, b=b, lambda_=lambda_)"
   ]
  },
  {
   "cell_type": "code",
   "execution_count": 85,
   "metadata": {},
   "outputs": [],
   "source": [
    "def cofi_cost_func_v(input, X, W, b, lambda_):\n",
    "    # R = np.isfinite(input)\n",
    "    J = np.square(np.matmul(X, W.T) + b - input)\n",
    "    J_sum = np.sum(np.nan_to_num(J, nan=0))\n",
    "    reg = (lambda_/2) * (np.sum(np.square(X)) + np.sum(np.square(W)))\n",
    "    \n",
    "    return J_sum /2 + reg"
   ]
  },
  {
   "cell_type": "code",
   "execution_count": 86,
   "metadata": {},
   "outputs": [
    {
     "data": {
      "text/plain": [
       "9.1148551"
      ]
     },
     "execution_count": 86,
     "metadata": {},
     "output_type": "execute_result"
    }
   ],
   "source": [
    "b = np.ones([1, n_u])\n",
    "cofi_cost_func_v(input=rating, X=feature, W=w, b=b, lambda_=0.001)"
   ]
  },
  {
   "cell_type": "markdown",
   "metadata": {},
   "source": [
    "## Collaborative filtering algorithm\n",
    "\n",
    "Problem: If we have paramters learned w,b but not X feature. How could we train it?"
   ]
  },
  {
   "cell_type": "code",
   "execution_count": 87,
   "metadata": {},
   "outputs": [
    {
     "data": {
      "text/html": [
       "<div>\n",
       "<style scoped>\n",
       "    .dataframe tbody tr th:only-of-type {\n",
       "        vertical-align: middle;\n",
       "    }\n",
       "\n",
       "    .dataframe tbody tr th {\n",
       "        vertical-align: top;\n",
       "    }\n",
       "\n",
       "    .dataframe thead th {\n",
       "        text-align: right;\n",
       "    }\n",
       "</style>\n",
       "<table border=\"1\" class=\"dataframe\">\n",
       "  <thead>\n",
       "    <tr style=\"text-align: right;\">\n",
       "      <th></th>\n",
       "      <th>Alice(0)</th>\n",
       "      <th>Bob(1)</th>\n",
       "      <th>Carol(2)</th>\n",
       "      <th>Dave(3)</th>\n",
       "      <th>x_1(romance)</th>\n",
       "      <th>x_2(action)</th>\n",
       "    </tr>\n",
       "  </thead>\n",
       "  <tbody>\n",
       "    <tr>\n",
       "      <th>0</th>\n",
       "      <td>5.0</td>\n",
       "      <td>5.0</td>\n",
       "      <td>0.0</td>\n",
       "      <td>0.0</td>\n",
       "      <td>1.0</td>\n",
       "      <td>1.0</td>\n",
       "    </tr>\n",
       "    <tr>\n",
       "      <th>1</th>\n",
       "      <td>NaN</td>\n",
       "      <td>NaN</td>\n",
       "      <td>NaN</td>\n",
       "      <td>0.0</td>\n",
       "      <td>1.0</td>\n",
       "      <td>1.0</td>\n",
       "    </tr>\n",
       "    <tr>\n",
       "      <th>2</th>\n",
       "      <td>NaN</td>\n",
       "      <td>4.0</td>\n",
       "      <td>0.0</td>\n",
       "      <td>NaN</td>\n",
       "      <td>1.0</td>\n",
       "      <td>1.0</td>\n",
       "    </tr>\n",
       "    <tr>\n",
       "      <th>3</th>\n",
       "      <td>0.0</td>\n",
       "      <td>0.0</td>\n",
       "      <td>5.0</td>\n",
       "      <td>4.0</td>\n",
       "      <td>1.0</td>\n",
       "      <td>1.0</td>\n",
       "    </tr>\n",
       "    <tr>\n",
       "      <th>4</th>\n",
       "      <td>0.0</td>\n",
       "      <td>0.0</td>\n",
       "      <td>5.0</td>\n",
       "      <td>NaN</td>\n",
       "      <td>1.0</td>\n",
       "      <td>1.0</td>\n",
       "    </tr>\n",
       "  </tbody>\n",
       "</table>\n",
       "</div>"
      ],
      "text/plain": [
       "   Alice(0)  Bob(1)  Carol(2)  Dave(3)  x_1(romance)  x_2(action)\n",
       "0       5.0     5.0       0.0      0.0           1.0          1.0\n",
       "1       NaN     NaN       NaN      0.0           1.0          1.0\n",
       "2       NaN     4.0       0.0      NaN           1.0          1.0\n",
       "3       0.0     0.0       5.0      4.0           1.0          1.0\n",
       "4       0.0     0.0       5.0      NaN           1.0          1.0"
      ]
     },
     "execution_count": 87,
     "metadata": {},
     "output_type": "execute_result"
    }
   ],
   "source": [
    "rating = np.array([\n",
    "    [5,5,0,0],\n",
    "    [np.NAN,np.NAN,np.NAN,0],\n",
    "    [np.NAN,4,0,np.NAN],\n",
    "    [0,0,5,4],\n",
    "    [0,0,5,np.NAN]\n",
    "    ])\n",
    "\n",
    "# Create {np.NaN} array\n",
    "feature = np.ones([5,2])\n",
    "\n",
    "rating_df = pd.DataFrame(rating, columns=['Alice(0)', 'Bob(1)', 'Carol(2)', 'Dave(3)'])\n",
    "feature_df = pd.DataFrame(feature, columns=['x_1(romance)', 'x_2(action)'])\n",
    "table_df = pd.concat([rating_df, feature_df], axis=1)\n",
    "table_df"
   ]
  },
  {
   "cell_type": "markdown",
   "metadata": {},
   "source": [
    "Let's say we have learned paremeter $w^{(j)}$, now let's find $x^{(i)}$\n"
   ]
  },
  {
   "cell_type": "code",
   "execution_count": null,
   "metadata": {},
   "outputs": [],
   "source": [
    "# Let's say we have learn parameter w\n",
    "w = np.empty([4,2])\n",
    "w[0] = np.array([1,0])\n",
    "w[1] = np.array([1,0])\n",
    "w[2] = np.array([0,1])\n",
    "w[3] = np.array([0,1])"
   ]
  },
  {
   "cell_type": "markdown",
   "metadata": {},
   "source": [
    "for user $j$ and movie $i$, predict rating: \n",
    "\n",
    "$$ w^{(j)} * x^{(i)} + \\cancel{b^{(j)}} $$\n",
    "\n",
    "\n",
    "to find $x^{(i)}$\n",
    "\n",
    "$ w^{(1)} * x^{(1)} \\approx 5 \\rightarrow x^{(i)} = \\begin{bmatrix} 1 \\\\ 0 \\end{bmatrix} $ <br>\n",
    "\n",
    "$ w^{(2)} * x^{(1)} \\approx 5 \\rightarrow x^{(i)} = \\begin{bmatrix} 1 \\\\ 0 \\end{bmatrix} $ <br>\n",
    "\n",
    "$ w^{(3)} * x^{(1)} \\approx 0 \\rightarrow x^{(i)} = \\begin{bmatrix} 0 \\\\ 1 \\end{bmatrix} $ <br>\n",
    "\n",
    "$ w^{(4)} * x^{(1)} \\approx 0 \\rightarrow x^{(i)} = \\begin{bmatrix} 0 \\\\ 1 \\end{bmatrix} $ <br>"
   ]
  },
  {
   "cell_type": "markdown",
   "metadata": {},
   "source": [
    "## Collaborative Filtering\n",
    "\n",
    "gather data from multiple users to predict (Collaborative)\n",
    "\n",
    "<br>\n",
    "\n",
    "Given $ w^{(1)}, b^{(1)},w^{(2)}, b^{(2)}, ..., w^{(n_u)}, b^{(n_u)} $\n",
    "\n",
    "to learn $x^{(i)}$ :\n",
    "\n",
    "$$ J(x^{(i)}) = \\frac{1}{2} \\sum_{j:r(i,j)=1} (w^{(j)} * x^{(i)} + b^{(j)} - y^{(i, j)})^2 \\textcolor{orange}{+ \\frac{\\lambda}{2} \\sum^n_{k=1} (x^{(i)}_k)^2} $$\n",
    "\n",
    "<br>\n",
    "\n",
    "To learn parameter $ x^{(1)}, x^{(2)}, ..., x^{(n_m)} $ : <br>\n",
    "<span style=\"color:grey\">In other word sum(user) of sum(cost)</span>\n",
    "\n",
    "$$ J\\binom{w^{(1)}, \\dots, w^{(n_u)}} {b^{(j)}, \\dots, b^{(n_u)}} = \\frac{1}{2}  \\sum^{n_u}_{i=1} \\sum_{j:r(i,j)=1} (w^{(j)} * x^{(i)} + b^{(j)} - y^{(i, j)})^2 \\textcolor{orange}{+ \\frac{\\lambda}{2} \\sum^{n_m}_{i=1} \\sum^n_{k=1} (x^{(i)}_k)^2} $$"
   ]
  },
  {
   "cell_type": "markdown",
   "metadata": {},
   "source": [
    "put it together:\n",
    "\n",
    "$$ \\displaystyle\\min_{ \\substack{ w^{(1)}, \\dots, w^{(n_u)} \\\\ {b^{(1)}, \\dots, b^{(n_u)}} \\\\ {x^{(1)}, \\dots, x^{(n_m)}} } } J(w, b, x) =  \\frac{1}{2} \\sum_{(i,j):r(i,j)=1} (w^{(j)} * x^{(i)} + b^{(j)} - y^{(i, j)})^2 \\textcolor{orange}{ + \\frac{\\lambda}{2} \\sum^{n_u}_{j=1} \\sum^n_{k=1} (w^{(j)}_k)^2 + \\frac{\\lambda}{2}  \\sum^{n_m}_{i=1} \\sum^n_{k=1} (x^{(i)}_k)^2 } $$\n",
    "    "
   ]
  },
  {
   "cell_type": "code",
   "execution_count": null,
   "metadata": {},
   "outputs": [],
   "source": [
    "def collaborative_cost(input, X, w, b, lambda_, pred_func):\n",
    "    '''\n",
    "    w np.array(m,n) = matrix of learning parameter\n",
    "    '''\n",
    "    \n",
    "    # Find index of non np.NAN\n",
    "    non_nan_idx = np.argwhere(np.invert(np.isnan(input)))\n",
    "    \n",
    "    # Create empty shape\n",
    "    pred = np.empty(input.shape)\n",
    "    reg_wk = 0\n",
    "    reg_w = 0\n",
    "    reg_Xk = 0\n",
    "    reg_X = 0 \n",
    "    error_sum = 0\n",
    "    \n",
    "    # no. of users\n",
    "    n_u = input.shape[1]\n",
    "    # no. of movies\n",
    "    n_m = input.shape[0]\n",
    "    # no. of features\n",
    "    n = X.shape[1]\n",
    "\n",
    "    for j in range(n_u):\n",
    "        # Our learning depend on user so we loop movies each user first\n",
    "        for i in range(n_m):\n",
    "            pred[i,j] = pred_func(X[i], w=w[j], b=b[j])\n",
    "            \n",
    "        for k in range(n):\n",
    "            reg_wk += (w[j,k] ** 2)\n",
    "            reg_Xk += (X[j,k] ** 2)\n",
    "        reg_w += reg_wk\n",
    "        reg_X += reg_Xk \n",
    "\n",
    "    for i,j in non_nan_idx:\n",
    "        error = (pred[i,j] - input[i,j])\n",
    "        error_sum += error\n",
    "        \n",
    "    reg = lambda_ * (reg_w + reg_X)\n",
    "    cost = (error_sum + reg) / 2\n",
    "    \n",
    "    # print(pred)\n",
    "    \n",
    "    return cost"
   ]
  },
  {
   "cell_type": "code",
   "execution_count": null,
   "metadata": {},
   "outputs": [
    {
     "data": {
      "text/plain": [
       "-6.99985"
      ]
     },
     "execution_count": 20,
     "metadata": {},
     "output_type": "execute_result"
    }
   ],
   "source": [
    "collaborative_cost(input=rating, X=feature, w=w, b=b, lambda_=lambda_, pred_func=linear_regression)"
   ]
  },
  {
   "cell_type": "markdown",
   "metadata": {},
   "source": [
    "To minimized cost\n",
    "## Gradient Descent\n",
    "\n",
    "$$ w_k^{(j)} = w_k^{(j)} - \\alpha \\frac{\\delta}{\\delta w_k^{(j)}} J(w, b, x) $$\n",
    "\n",
    "$$ b^{(j)} = b^{(j)} - \\alpha \\frac{\\delta}{\\delta b^{(j)}} J(w, b, x) $$\n",
    "\n",
    "$$ x_k^{(i)} = x_k^{(i)} - \\alpha \\frac{\\delta}{\\delta x_k^{(i)}} J(w, b, x) $$"
   ]
  },
  {
   "cell_type": "markdown",
   "metadata": {},
   "source": []
  },
  {
   "cell_type": "markdown",
   "metadata": {},
   "source": [
    "$$ J(w, b, x) =  \\frac{1}{2} \\sum_{(i,j):r(i,j)=1} (w^{(j)} * x^{(i)} + b^{(j)} - y^{(i, j)})^2 \\textcolor{orange}{ + \\frac{\\lambda}{2} \\sum^{n_u}_{j=1} \\sum^n_{k=1} (w^{(j)}_k)^2 + \\frac{\\lambda}{2}  \\sum^{n_m}_{i=1} \\sum^n_{k=1} (x^{(i)}_k)^2 } $$\n",
    "\n",
    "$$ \\frac{\\delta}{\\delta w_i^{(j)}}J(w, b, x) = \\sum_{(i,j):r(i,j)=1} (w^{(j)} * x^{(i)} + b^{(j)} - y^{(i, j)})w^{(j)} \\textcolor{orange}{ + \\lambda[\\sum^{n_u}_{j=1} \\sum^n_{k=1} (w^{(j)}_k) + \\sum^{n_m}_{i=1} \\sum^n_{k=1} (x^{(i)}_k)]] } $$"
   ]
  },
  {
   "cell_type": "code",
   "execution_count": null,
   "metadata": {},
   "outputs": [],
   "source": [
    "def gradient_descent(input, X, w, b, iter, lambda_, alpha, pred_func, cost_func):\n",
    "    \n",
    "    # no. of users\n",
    "    n_u = input.shape[1]\n",
    "    # no. of movies\n",
    "    n_m = input.shape[0]\n",
    "    # no. of features\n",
    "    n = X.shape[1]\n",
    "    \n",
    "    # Get all index all {np.NaN} in {rating}\n",
    "    non_nan_idx = np.argwhere(np.invert(np.isnan(input)))\n",
    "    \n",
    "    # Create empty shape\n",
    "    pred = np.empty(input.shape)\n",
    "    \n",
    "    cost_hist = []\n",
    "    \n",
    "    for x in range(iter):\n",
    "        \n",
    "        cost_j = 0\n",
    "        reg_wk = 0\n",
    "        reg_w = 0\n",
    "        reg_Xk = 0\n",
    "        reg_X = 0\n",
    "    \n",
    "        for j in range(n_u):\n",
    "            for i in range(n_m):\n",
    "                pred[i,j] = pred_func(X[i], w=w[j], b=b[j])\n",
    "          \n",
    "            for k in range(n):\n",
    "                reg_wk += w[j,k] * w[j,k]\n",
    "            reg_w += reg_wk\n",
    "            \n",
    "        for i in range(n_m):\n",
    "            for k in range(n):\n",
    "                reg_Xk += X[i,k] * X[i,k]\n",
    "            reg_X += reg_Xk\n",
    "        \n",
    "        reg = lambda_ * (reg_w + reg_X)\n",
    "        \n",
    "        for i,j in non_nan_idx:\n",
    "            error = (pred[i,j] - input[i,j])\n",
    "            error_sum += error\n",
    "\n",
    "        for i,j in non_nan_idx:\n",
    "            w[j] = w[j] - alpha * ((cost_j * X[i]))\n",
    "            b[j] = b[j] - alpha * (cost_j)\n",
    "            X[i] = X[i] - alpha * ((cost_j * w[j]))\n",
    "        \n",
    "        cost = cost_func(input, X, y, w, b, lambda_)\n",
    "        cost_hist.append(cost)\n",
    "        \n",
    "        # if len(cost_hist) > 1:\n",
    "        #     if cost_hist[x] - cost <  0.00001:\n",
    "        #         break\n",
    "            \n",
    "    return w, b, X, cost, cost_hist"
   ]
  },
  {
   "cell_type": "code",
   "execution_count": null,
   "metadata": {},
   "outputs": [
    {
     "ename": "NameError",
     "evalue": "name 'w_init' is not defined",
     "output_type": "error",
     "traceback": [
      "\u001b[0;31m---------------------------------------------------------------------------\u001b[0m",
      "\u001b[0;31mNameError\u001b[0m                                 Traceback (most recent call last)",
      "\u001b[1;32m/Users/krit/VSCode/ML_Learning/Recommendation.ipynb Cell 37\u001b[0m in \u001b[0;36m<cell line: 1>\u001b[0;34m()\u001b[0m\n\u001b[0;32m----> <a href='vscode-notebook-cell:/Users/krit/VSCode/ML_Learning/Recommendation.ipynb#Y155sZmlsZQ%3D%3D?line=0'>1</a>\u001b[0m w_out, b_out, X_out \u001b[39m=\u001b[39m gradient_descent(\u001b[39minput\u001b[39m\u001b[39m=\u001b[39mrating, X\u001b[39m=\u001b[39mfeature, w\u001b[39m=\u001b[39mw_init, b\u001b[39m=\u001b[39mb_init, \u001b[39miter\u001b[39m\u001b[39m=\u001b[39m\u001b[39miter\u001b[39m, lambda_\u001b[39m=\u001b[39mlambda_, alpha\u001b[39m=\u001b[39malpha, pred_func\u001b[39m=\u001b[39mlinear_regression, cost_func\u001b[39m=\u001b[39mcollaborative_cost)\n",
      "\u001b[0;31mNameError\u001b[0m: name 'w_init' is not defined"
     ]
    }
   ],
   "source": [
    "\n",
    "\n",
    "w_out, b_out, X_out = gradient_descent(input=rating, X=feature, w=w_init, b=b_init, iter=iter, lambda_=lambda_, alpha=alpha, pred_func=linear_regression, cost_func=collaborative_cost)"
   ]
  },
  {
   "cell_type": "code",
   "execution_count": null,
   "metadata": {},
   "outputs": [
    {
     "data": {
      "text/html": [
       "<div>\n",
       "<style scoped>\n",
       "    .dataframe tbody tr th:only-of-type {\n",
       "        vertical-align: middle;\n",
       "    }\n",
       "\n",
       "    .dataframe tbody tr th {\n",
       "        vertical-align: top;\n",
       "    }\n",
       "\n",
       "    .dataframe thead th {\n",
       "        text-align: right;\n",
       "    }\n",
       "</style>\n",
       "<table border=\"1\" class=\"dataframe\">\n",
       "  <thead>\n",
       "    <tr style=\"text-align: right;\">\n",
       "      <th></th>\n",
       "      <th>Alice(0)</th>\n",
       "      <th>Bob(1)</th>\n",
       "      <th>Carol(2)</th>\n",
       "      <th>Dave(3)</th>\n",
       "      <th>x_1(romance)</th>\n",
       "      <th>x_2(action)</th>\n",
       "    </tr>\n",
       "  </thead>\n",
       "  <tbody>\n",
       "    <tr>\n",
       "      <th>0</th>\n",
       "      <td>5.0</td>\n",
       "      <td>5.0</td>\n",
       "      <td>0.0</td>\n",
       "      <td>0.0</td>\n",
       "      <td>0.3</td>\n",
       "      <td>NaN</td>\n",
       "    </tr>\n",
       "    <tr>\n",
       "      <th>1</th>\n",
       "      <td>NaN</td>\n",
       "      <td>NaN</td>\n",
       "      <td>NaN</td>\n",
       "      <td>0.0</td>\n",
       "      <td>NaN</td>\n",
       "      <td>NaN</td>\n",
       "    </tr>\n",
       "    <tr>\n",
       "      <th>2</th>\n",
       "      <td>NaN</td>\n",
       "      <td>4.0</td>\n",
       "      <td>0.0</td>\n",
       "      <td>NaN</td>\n",
       "      <td>NaN</td>\n",
       "      <td>NaN</td>\n",
       "    </tr>\n",
       "    <tr>\n",
       "      <th>3</th>\n",
       "      <td>0.0</td>\n",
       "      <td>0.0</td>\n",
       "      <td>5.0</td>\n",
       "      <td>4.0</td>\n",
       "      <td>0.0</td>\n",
       "      <td>NaN</td>\n",
       "    </tr>\n",
       "    <tr>\n",
       "      <th>4</th>\n",
       "      <td>0.0</td>\n",
       "      <td>0.0</td>\n",
       "      <td>5.0</td>\n",
       "      <td>NaN</td>\n",
       "      <td>NaN</td>\n",
       "      <td>NaN</td>\n",
       "    </tr>\n",
       "  </tbody>\n",
       "</table>\n",
       "</div>"
      ],
      "text/plain": [
       "   Alice(0)  Bob(1)  Carol(2)  Dave(3)  x_1(romance)  x_2(action)\n",
       "0       5.0     5.0       0.0      0.0           0.3          NaN\n",
       "1       NaN     NaN       NaN      0.0           NaN          NaN\n",
       "2       NaN     4.0       0.0      NaN           NaN          NaN\n",
       "3       0.0     0.0       5.0      4.0           0.0          NaN\n",
       "4       0.0     0.0       5.0      NaN           NaN          NaN"
      ]
     },
     "execution_count": 24,
     "metadata": {},
     "output_type": "execute_result"
    }
   ],
   "source": [
    "table_pred = plot_prediction(input=rating, X=X_out, w=w_out, b=b_out, pred_func=linear_regression)\n",
    "pd.concat([pd.DataFrame(table_pred, columns=['Alice(0)', 'Bob(1)', 'Carol(2)', 'Dave(3)']), pd.DataFrame(X_out, columns=['x_1(romance)', 'x_2(action)'])], axis=1)"
   ]
  },
  {
   "cell_type": "markdown",
   "metadata": {},
   "source": [
    "Wow we got 0.31 cost, and we fill all missing data in the table."
   ]
  },
  {
   "cell_type": "markdown",
   "metadata": {},
   "source": [
    "## Binary Label\n",
    "\n",
    "For yes or no, 0 or 1 question.\n",
    "\n",
    "$$ g(w^{(j)} * x^{(i)} + b^{(j)}) $$"
   ]
  },
  {
   "cell_type": "code",
   "execution_count": null,
   "metadata": {},
   "outputs": [],
   "source": [
    "def logistic_regression(X, w, b):\n",
    "    \n",
    "    z = np.dot(w, X) + b\n",
    "    g = 1/(1 + np.exp(-z))\n",
    "    \n",
    "    pred = g\n",
    "\n",
    "    return pred"
   ]
  },
  {
   "cell_type": "code",
   "execution_count": null,
   "metadata": {},
   "outputs": [
    {
     "data": {
      "text/html": [
       "<div>\n",
       "<style scoped>\n",
       "    .dataframe tbody tr th:only-of-type {\n",
       "        vertical-align: middle;\n",
       "    }\n",
       "\n",
       "    .dataframe tbody tr th {\n",
       "        vertical-align: top;\n",
       "    }\n",
       "\n",
       "    .dataframe thead th {\n",
       "        text-align: right;\n",
       "    }\n",
       "</style>\n",
       "<table border=\"1\" class=\"dataframe\">\n",
       "  <thead>\n",
       "    <tr style=\"text-align: right;\">\n",
       "      <th></th>\n",
       "      <th>Alice(0)</th>\n",
       "      <th>Bob(1)</th>\n",
       "      <th>Carol(2)</th>\n",
       "      <th>Dave(3)</th>\n",
       "    </tr>\n",
       "  </thead>\n",
       "  <tbody>\n",
       "    <tr>\n",
       "      <th>0</th>\n",
       "      <td>5.0</td>\n",
       "      <td>5.0</td>\n",
       "      <td>0.0</td>\n",
       "      <td>0.0</td>\n",
       "    </tr>\n",
       "    <tr>\n",
       "      <th>1</th>\n",
       "      <td>NaN</td>\n",
       "      <td>NaN</td>\n",
       "      <td>NaN</td>\n",
       "      <td>0.0</td>\n",
       "    </tr>\n",
       "    <tr>\n",
       "      <th>2</th>\n",
       "      <td>NaN</td>\n",
       "      <td>4.0</td>\n",
       "      <td>0.0</td>\n",
       "      <td>NaN</td>\n",
       "    </tr>\n",
       "    <tr>\n",
       "      <th>3</th>\n",
       "      <td>0.0</td>\n",
       "      <td>0.0</td>\n",
       "      <td>5.0</td>\n",
       "      <td>4.0</td>\n",
       "    </tr>\n",
       "    <tr>\n",
       "      <th>4</th>\n",
       "      <td>0.0</td>\n",
       "      <td>0.0</td>\n",
       "      <td>5.0</td>\n",
       "      <td>NaN</td>\n",
       "    </tr>\n",
       "  </tbody>\n",
       "</table>\n",
       "</div>"
      ],
      "text/plain": [
       "   Alice(0)  Bob(1)  Carol(2)  Dave(3)\n",
       "0       5.0     5.0       0.0      0.0\n",
       "1       NaN     NaN       NaN      0.0\n",
       "2       NaN     4.0       0.0      NaN\n",
       "3       0.0     0.0       5.0      4.0\n",
       "4       0.0     0.0       5.0      NaN"
      ]
     },
     "execution_count": 26,
     "metadata": {},
     "output_type": "execute_result"
    }
   ],
   "source": [
    "table_pred = plot_prediction(rating, X_out, w_out, b_out, logistic_regression)\n",
    "pd.DataFrame(table_pred, columns=['Alice(0)', 'Bob(1)', 'Carol(2)', 'Dave(3)'])"
   ]
  },
  {
   "cell_type": "code",
   "execution_count": null,
   "metadata": {},
   "outputs": [],
   "source": [
    "def logistic_cost(input, X, y, w, b):\n",
    "\n",
    "    j_wbx = 0\n",
    "    \n",
    "    # Get all index all {np.NaN} in {rating}\n",
    "    non_nan_idx = np.argwhere(np.invert(np.isnan(input)))\n",
    "    \n",
    "    for i,j in non_nan_idx:\n",
    "        z = np.dot(w[j], X[i]) + b[j]\n",
    "        g = 1/(1 + np.exp(-z))\n",
    "        pred = g\n",
    "        \n",
    "        loss = -y[i,j] * np.log(pred) -(1 - y[i,j]) * np.log(1 - pred)\n",
    "        j_wbx += loss \n",
    "        \n",
    "    return j_wbx"
   ]
  },
  {
   "cell_type": "code",
   "execution_count": null,
   "metadata": {},
   "outputs": [],
   "source": [
    "# logistic_cost(rating, X_out, target, w_out, b_out)"
   ]
  },
  {
   "cell_type": "code",
   "execution_count": null,
   "metadata": {},
   "outputs": [],
   "source": [
    "# bi_rating = np.array([\n",
    "#     [0,1,0,np.NaN],\n",
    "#     [1,0,np.NaN,0],\n",
    "#     [1,1,0,np.NaN],\n",
    "#     [np.NaN,0,1,1],\n",
    "#     [np.NaN,0,np.NaN,1]])\n",
    "\n",
    "# n_m =rating.shape[0]\n",
    "# n_u = rating.shape[1]\n",
    "# n = feature.shape[1]\n",
    "\n",
    "# bi_feature = np.zeros([n_m, 2])\n",
    "\n",
    "# bi_target = np.array([\n",
    "#     [0,1,0,0],\n",
    "#     [1,0,1,0],\n",
    "#     [1,1,0,0],\n",
    "#     [0,0,1,1],\n",
    "#     [1,0,1,1]])"
   ]
  }
 ],
 "metadata": {
  "kernelspec": {
   "display_name": "Python 3.10.6 ('mlp-env')",
   "language": "python",
   "name": "python3"
  },
  "language_info": {
   "codemirror_mode": {
    "name": "ipython",
    "version": 3
   },
   "file_extension": ".py",
   "mimetype": "text/x-python",
   "name": "python",
   "nbconvert_exporter": "python",
   "pygments_lexer": "ipython3",
   "version": "3.10.6"
  },
  "orig_nbformat": 4,
  "vscode": {
   "interpreter": {
    "hash": "a0745cecd6693224acfd65ed4dace2baa9598cb458ac011834dc915248e3aadb"
   }
  }
 },
 "nbformat": 4,
 "nbformat_minor": 2
}
